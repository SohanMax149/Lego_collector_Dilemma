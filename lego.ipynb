{
 "cells": [
  {
   "cell_type": "code",
   "execution_count": 1,
   "id": "3f9eecd6",
   "metadata": {},
   "outputs": [],
   "source": [
    "import numpy as np\n",
    "import pandas as pd\n",
    "import matplotlib.pyplot as plt\n",
    "import seaborn as sns\n",
    "from sklearn.linear_model import LinearRegression\n",
    "from sklearn.metrics import mean_squared_error, r2_score\n",
    "from sklearn.model_selection import train_test_split"
   ]
  },
  {
   "cell_type": "code",
   "execution_count": 2,
   "id": "86d2452c",
   "metadata": {},
   "outputs": [],
   "source": [
    "x = pd.read_csv(r'C:\\Users\\HP\\ML\\Lego_collector_Dilemma\\lego_final.csv')"
   ]
  },
  {
   "cell_type": "code",
   "execution_count": 3,
   "id": "5d3b988f",
   "metadata": {},
   "outputs": [
    {
     "data": {
      "text/html": [
       "<div>\n",
       "<style scoped>\n",
       "    .dataframe tbody tr th:only-of-type {\n",
       "        vertical-align: middle;\n",
       "    }\n",
       "\n",
       "    .dataframe tbody tr th {\n",
       "        vertical-align: top;\n",
       "    }\n",
       "\n",
       "    .dataframe thead th {\n",
       "        text-align: right;\n",
       "    }\n",
       "</style>\n",
       "<table border=\"1\" class=\"dataframe\">\n",
       "  <thead>\n",
       "    <tr style=\"text-align: right;\">\n",
       "      <th></th>\n",
       "      <th>ages</th>\n",
       "      <th>list_price</th>\n",
       "      <th>num_reviews</th>\n",
       "      <th>piece_count</th>\n",
       "      <th>play_star_rating</th>\n",
       "      <th>review_difficulty</th>\n",
       "      <th>star_rating</th>\n",
       "      <th>theme_name</th>\n",
       "      <th>val_star_rating</th>\n",
       "      <th>country</th>\n",
       "    </tr>\n",
       "  </thead>\n",
       "  <tbody>\n",
       "    <tr>\n",
       "      <th>0</th>\n",
       "      <td>19</td>\n",
       "      <td>29.99</td>\n",
       "      <td>2</td>\n",
       "      <td>277</td>\n",
       "      <td>4.0</td>\n",
       "      <td>0</td>\n",
       "      <td>4.5</td>\n",
       "      <td>0</td>\n",
       "      <td>4.0</td>\n",
       "      <td>20</td>\n",
       "    </tr>\n",
       "    <tr>\n",
       "      <th>1</th>\n",
       "      <td>19</td>\n",
       "      <td>19.99</td>\n",
       "      <td>2</td>\n",
       "      <td>168</td>\n",
       "      <td>4.0</td>\n",
       "      <td>2</td>\n",
       "      <td>5.0</td>\n",
       "      <td>0</td>\n",
       "      <td>4.0</td>\n",
       "      <td>20</td>\n",
       "    </tr>\n",
       "    <tr>\n",
       "      <th>2</th>\n",
       "      <td>19</td>\n",
       "      <td>12.99</td>\n",
       "      <td>11</td>\n",
       "      <td>74</td>\n",
       "      <td>4.3</td>\n",
       "      <td>2</td>\n",
       "      <td>4.3</td>\n",
       "      <td>0</td>\n",
       "      <td>4.1</td>\n",
       "      <td>20</td>\n",
       "    </tr>\n",
       "    <tr>\n",
       "      <th>3</th>\n",
       "      <td>5</td>\n",
       "      <td>99.99</td>\n",
       "      <td>23</td>\n",
       "      <td>1032</td>\n",
       "      <td>3.6</td>\n",
       "      <td>0</td>\n",
       "      <td>4.6</td>\n",
       "      <td>1</td>\n",
       "      <td>4.3</td>\n",
       "      <td>20</td>\n",
       "    </tr>\n",
       "    <tr>\n",
       "      <th>4</th>\n",
       "      <td>5</td>\n",
       "      <td>79.99</td>\n",
       "      <td>14</td>\n",
       "      <td>744</td>\n",
       "      <td>3.2</td>\n",
       "      <td>1</td>\n",
       "      <td>4.6</td>\n",
       "      <td>1</td>\n",
       "      <td>4.1</td>\n",
       "      <td>20</td>\n",
       "    </tr>\n",
       "  </tbody>\n",
       "</table>\n",
       "</div>"
      ],
      "text/plain": [
       "   ages  list_price  num_reviews  piece_count  play_star_rating  \\\n",
       "0    19       29.99            2          277               4.0   \n",
       "1    19       19.99            2          168               4.0   \n",
       "2    19       12.99           11           74               4.3   \n",
       "3     5       99.99           23         1032               3.6   \n",
       "4     5       79.99           14          744               3.2   \n",
       "\n",
       "   review_difficulty  star_rating  theme_name  val_star_rating  country  \n",
       "0                  0          4.5           0              4.0       20  \n",
       "1                  2          5.0           0              4.0       20  \n",
       "2                  2          4.3           0              4.1       20  \n",
       "3                  0          4.6           1              4.3       20  \n",
       "4                  1          4.6           1              4.1       20  "
      ]
     },
     "execution_count": 3,
     "metadata": {},
     "output_type": "execute_result"
    }
   ],
   "source": [
    "x.head()"
   ]
  },
  {
   "cell_type": "code",
   "execution_count": 4,
   "id": "d25ab37c",
   "metadata": {},
   "outputs": [
    {
     "data": {
      "text/html": [
       "<div>\n",
       "<style scoped>\n",
       "    .dataframe tbody tr th:only-of-type {\n",
       "        vertical-align: middle;\n",
       "    }\n",
       "\n",
       "    .dataframe tbody tr th {\n",
       "        vertical-align: top;\n",
       "    }\n",
       "\n",
       "    .dataframe thead th {\n",
       "        text-align: right;\n",
       "    }\n",
       "</style>\n",
       "<table border=\"1\" class=\"dataframe\">\n",
       "  <thead>\n",
       "    <tr style=\"text-align: right;\">\n",
       "      <th></th>\n",
       "      <th>ages</th>\n",
       "      <th>list_price</th>\n",
       "      <th>num_reviews</th>\n",
       "      <th>piece_count</th>\n",
       "      <th>play_star_rating</th>\n",
       "      <th>review_difficulty</th>\n",
       "      <th>star_rating</th>\n",
       "      <th>theme_name</th>\n",
       "      <th>val_star_rating</th>\n",
       "      <th>country</th>\n",
       "    </tr>\n",
       "  </thead>\n",
       "  <tbody>\n",
       "    <tr>\n",
       "      <th>count</th>\n",
       "      <td>12261.00000</td>\n",
       "      <td>12261.000000</td>\n",
       "      <td>12261.000000</td>\n",
       "      <td>12261.000000</td>\n",
       "      <td>12261.000000</td>\n",
       "      <td>12261.000000</td>\n",
       "      <td>12261.000000</td>\n",
       "      <td>12261.000000</td>\n",
       "      <td>12261.000000</td>\n",
       "      <td>12261.000000</td>\n",
       "    </tr>\n",
       "    <tr>\n",
       "      <th>mean</th>\n",
       "      <td>16.68828</td>\n",
       "      <td>65.141998</td>\n",
       "      <td>14.603050</td>\n",
       "      <td>493.405921</td>\n",
       "      <td>3.709689</td>\n",
       "      <td>1.988826</td>\n",
       "      <td>3.917698</td>\n",
       "      <td>20.523367</td>\n",
       "      <td>3.609844</td>\n",
       "      <td>10.015333</td>\n",
       "    </tr>\n",
       "    <tr>\n",
       "      <th>std</th>\n",
       "      <td>8.21868</td>\n",
       "      <td>91.980429</td>\n",
       "      <td>34.356847</td>\n",
       "      <td>825.364580</td>\n",
       "      <td>1.641130</td>\n",
       "      <td>1.787565</td>\n",
       "      <td>1.603276</td>\n",
       "      <td>11.990176</td>\n",
       "      <td>1.614694</td>\n",
       "      <td>6.185450</td>\n",
       "    </tr>\n",
       "    <tr>\n",
       "      <th>min</th>\n",
       "      <td>0.00000</td>\n",
       "      <td>2.272400</td>\n",
       "      <td>0.000000</td>\n",
       "      <td>1.000000</td>\n",
       "      <td>0.000000</td>\n",
       "      <td>0.000000</td>\n",
       "      <td>0.000000</td>\n",
       "      <td>0.000000</td>\n",
       "      <td>0.000000</td>\n",
       "      <td>0.000000</td>\n",
       "    </tr>\n",
       "    <tr>\n",
       "      <th>25%</th>\n",
       "      <td>11.00000</td>\n",
       "      <td>19.990000</td>\n",
       "      <td>1.000000</td>\n",
       "      <td>97.000000</td>\n",
       "      <td>3.600000</td>\n",
       "      <td>0.000000</td>\n",
       "      <td>4.000000</td>\n",
       "      <td>9.000000</td>\n",
       "      <td>3.500000</td>\n",
       "      <td>4.000000</td>\n",
       "    </tr>\n",
       "    <tr>\n",
       "      <th>50%</th>\n",
       "      <td>19.00000</td>\n",
       "      <td>36.587800</td>\n",
       "      <td>4.000000</td>\n",
       "      <td>216.000000</td>\n",
       "      <td>4.400000</td>\n",
       "      <td>2.000000</td>\n",
       "      <td>4.600000</td>\n",
       "      <td>21.000000</td>\n",
       "      <td>4.200000</td>\n",
       "      <td>10.000000</td>\n",
       "    </tr>\n",
       "    <tr>\n",
       "      <th>75%</th>\n",
       "      <td>23.00000</td>\n",
       "      <td>70.192200</td>\n",
       "      <td>11.000000</td>\n",
       "      <td>544.000000</td>\n",
       "      <td>4.700000</td>\n",
       "      <td>4.000000</td>\n",
       "      <td>4.900000</td>\n",
       "      <td>34.000000</td>\n",
       "      <td>4.700000</td>\n",
       "      <td>15.000000</td>\n",
       "    </tr>\n",
       "    <tr>\n",
       "      <th>max</th>\n",
       "      <td>30.00000</td>\n",
       "      <td>1104.870000</td>\n",
       "      <td>367.000000</td>\n",
       "      <td>7541.000000</td>\n",
       "      <td>5.000000</td>\n",
       "      <td>5.000000</td>\n",
       "      <td>5.000000</td>\n",
       "      <td>40.000000</td>\n",
       "      <td>5.000000</td>\n",
       "      <td>20.000000</td>\n",
       "    </tr>\n",
       "  </tbody>\n",
       "</table>\n",
       "</div>"
      ],
      "text/plain": [
       "              ages    list_price   num_reviews   piece_count  \\\n",
       "count  12261.00000  12261.000000  12261.000000  12261.000000   \n",
       "mean      16.68828     65.141998     14.603050    493.405921   \n",
       "std        8.21868     91.980429     34.356847    825.364580   \n",
       "min        0.00000      2.272400      0.000000      1.000000   \n",
       "25%       11.00000     19.990000      1.000000     97.000000   \n",
       "50%       19.00000     36.587800      4.000000    216.000000   \n",
       "75%       23.00000     70.192200     11.000000    544.000000   \n",
       "max       30.00000   1104.870000    367.000000   7541.000000   \n",
       "\n",
       "       play_star_rating  review_difficulty   star_rating    theme_name  \\\n",
       "count      12261.000000       12261.000000  12261.000000  12261.000000   \n",
       "mean           3.709689           1.988826      3.917698     20.523367   \n",
       "std            1.641130           1.787565      1.603276     11.990176   \n",
       "min            0.000000           0.000000      0.000000      0.000000   \n",
       "25%            3.600000           0.000000      4.000000      9.000000   \n",
       "50%            4.400000           2.000000      4.600000     21.000000   \n",
       "75%            4.700000           4.000000      4.900000     34.000000   \n",
       "max            5.000000           5.000000      5.000000     40.000000   \n",
       "\n",
       "       val_star_rating       country  \n",
       "count     12261.000000  12261.000000  \n",
       "mean          3.609844     10.015333  \n",
       "std           1.614694      6.185450  \n",
       "min           0.000000      0.000000  \n",
       "25%           3.500000      4.000000  \n",
       "50%           4.200000     10.000000  \n",
       "75%           4.700000     15.000000  \n",
       "max           5.000000     20.000000  "
      ]
     },
     "execution_count": 4,
     "metadata": {},
     "output_type": "execute_result"
    }
   ],
   "source": [
    "x.describe()"
   ]
  },
  {
   "cell_type": "code",
   "execution_count": 5,
   "id": "0d538c15",
   "metadata": {},
   "outputs": [
    {
     "data": {
      "text/plain": [
       "ages                 0\n",
       "list_price           0\n",
       "num_reviews          0\n",
       "piece_count          0\n",
       "play_star_rating     0\n",
       "review_difficulty    0\n",
       "star_rating          0\n",
       "theme_name           0\n",
       "val_star_rating      0\n",
       "country              0\n",
       "dtype: int64"
      ]
     },
     "execution_count": 5,
     "metadata": {},
     "output_type": "execute_result"
    }
   ],
   "source": [
    "x.isnull().sum()"
   ]
  },
  {
   "cell_type": "code",
   "execution_count": 6,
   "id": "bee4660f",
   "metadata": {},
   "outputs": [
    {
     "name": "stdout",
     "output_type": "stream",
     "text": [
      "<class 'pandas.core.frame.DataFrame'>\n",
      "RangeIndex: 12261 entries, 0 to 12260\n",
      "Data columns (total 10 columns):\n",
      " #   Column             Non-Null Count  Dtype  \n",
      "---  ------             --------------  -----  \n",
      " 0   ages               12261 non-null  int64  \n",
      " 1   list_price         12261 non-null  float64\n",
      " 2   num_reviews        12261 non-null  int64  \n",
      " 3   piece_count        12261 non-null  int64  \n",
      " 4   play_star_rating   12261 non-null  float64\n",
      " 5   review_difficulty  12261 non-null  int64  \n",
      " 6   star_rating        12261 non-null  float64\n",
      " 7   theme_name         12261 non-null  int64  \n",
      " 8   val_star_rating    12261 non-null  float64\n",
      " 9   country            12261 non-null  int64  \n",
      "dtypes: float64(4), int64(6)\n",
      "memory usage: 958.0 KB\n"
     ]
    }
   ],
   "source": [
    "x.info()"
   ]
  },
  {
   "cell_type": "code",
   "execution_count": 7,
   "id": "e5808099",
   "metadata": {},
   "outputs": [
    {
     "data": {
      "text/plain": [
       "<AxesSubplot:>"
      ]
     },
     "execution_count": 7,
     "metadata": {},
     "output_type": "execute_result"
    },
    {
     "data": {
      "image/png": "[encoded data removed]",
      "text/plain": [
       "<Figure size 1080x720 with 2 Axes>"
      ]
     },
     "metadata": {
      "needs_background": "light"
     },
     "output_type": "display_data"
    }
   ],
   "source": [
    "correlation_matrix = x.corr().round(2)\n",
    "plt.figure(figsize=(15,10))\n",
    "sns.heatmap(data=correlation_matrix, annot=True)"
   ]
  },
  {
   "cell_type": "code",
   "execution_count": 8,
   "id": "e3fefefc",
   "metadata": {},
   "outputs": [],
   "source": [
    "x.drop(['play_star_rating','val_star_rating', 'review_difficulty'],axis = 1 ,inplace=True)"
   ]
  },
  {
   "cell_type": "code",
   "execution_count": 9,
   "id": "6f88b065",
   "metadata": {},
   "outputs": [
    {
     "data": {
      "text/html": [
       "<div>\n",
       "<style scoped>\n",
       "    .dataframe tbody tr th:only-of-type {\n",
       "        vertical-align: middle;\n",
       "    }\n",
       "\n",
       "    .dataframe tbody tr th {\n",
       "        vertical-align: top;\n",
       "    }\n",
       "\n",
       "    .dataframe thead th {\n",
       "        text-align: right;\n",
       "    }\n",
       "</style>\n",
       "<table border=\"1\" class=\"dataframe\">\n",
       "  <thead>\n",
       "    <tr style=\"text-align: right;\">\n",
       "      <th></th>\n",
       "      <th>ages</th>\n",
       "      <th>list_price</th>\n",
       "      <th>num_reviews</th>\n",
       "      <th>piece_count</th>\n",
       "      <th>star_rating</th>\n",
       "      <th>theme_name</th>\n",
       "      <th>country</th>\n",
       "    </tr>\n",
       "  </thead>\n",
       "  <tbody>\n",
       "    <tr>\n",
       "      <th>0</th>\n",
       "      <td>19</td>\n",
       "      <td>29.99</td>\n",
       "      <td>2</td>\n",
       "      <td>277</td>\n",
       "      <td>4.5</td>\n",
       "      <td>0</td>\n",
       "      <td>20</td>\n",
       "    </tr>\n",
       "    <tr>\n",
       "      <th>1</th>\n",
       "      <td>19</td>\n",
       "      <td>19.99</td>\n",
       "      <td>2</td>\n",
       "      <td>168</td>\n",
       "      <td>5.0</td>\n",
       "      <td>0</td>\n",
       "      <td>20</td>\n",
       "    </tr>\n",
       "    <tr>\n",
       "      <th>2</th>\n",
       "      <td>19</td>\n",
       "      <td>12.99</td>\n",
       "      <td>11</td>\n",
       "      <td>74</td>\n",
       "      <td>4.3</td>\n",
       "      <td>0</td>\n",
       "      <td>20</td>\n",
       "    </tr>\n",
       "    <tr>\n",
       "      <th>3</th>\n",
       "      <td>5</td>\n",
       "      <td>99.99</td>\n",
       "      <td>23</td>\n",
       "      <td>1032</td>\n",
       "      <td>4.6</td>\n",
       "      <td>1</td>\n",
       "      <td>20</td>\n",
       "    </tr>\n",
       "    <tr>\n",
       "      <th>4</th>\n",
       "      <td>5</td>\n",
       "      <td>79.99</td>\n",
       "      <td>14</td>\n",
       "      <td>744</td>\n",
       "      <td>4.6</td>\n",
       "      <td>1</td>\n",
       "      <td>20</td>\n",
       "    </tr>\n",
       "  </tbody>\n",
       "</table>\n",
       "</div>"
      ],
      "text/plain": [
       "   ages  list_price  num_reviews  piece_count  star_rating  theme_name  \\\n",
       "0    19       29.99            2          277          4.5           0   \n",
       "1    19       19.99            2          168          5.0           0   \n",
       "2    19       12.99           11           74          4.3           0   \n",
       "3     5       99.99           23         1032          4.6           1   \n",
       "4     5       79.99           14          744          4.6           1   \n",
       "\n",
       "   country  \n",
       "0       20  \n",
       "1       20  \n",
       "2       20  \n",
       "3       20  \n",
       "4       20  "
      ]
     },
     "execution_count": 9,
     "metadata": {},
     "output_type": "execute_result"
    }
   ],
   "source": [
    "x.head()"
   ]
  },
  {
   "cell_type": "code",
   "execution_count": 10,
   "id": "b83bc800",
   "metadata": {},
   "outputs": [
    {
     "data": {
      "text/plain": [
       "19    1476\n",
       "23    1421\n",
       "26    1180\n",
       "13     957\n",
       "16     911\n",
       "0      870\n",
       "11     840\n",
       "22     723\n",
       "29     624\n",
       "8      420\n",
       "25     350\n",
       "14     311\n",
       "5      298\n",
       "20     233\n",
       "24     226\n",
       "9      213\n",
       "7      212\n",
       "3      184\n",
       "18     148\n",
       "2      148\n",
       "10     113\n",
       "30      92\n",
       "15      71\n",
       "4       66\n",
       "28      46\n",
       "6       42\n",
       "17      21\n",
       "12      21\n",
       "1       21\n",
       "27      21\n",
       "21       2\n",
       "Name: ages, dtype: int64"
      ]
     },
     "execution_count": 10,
     "metadata": {},
     "output_type": "execute_result"
    }
   ],
   "source": [
    "x['ages'].value_counts(dropna=False)"
   ]
  },
  {
   "cell_type": "code",
   "execution_count": 11,
   "id": "3925fedc",
   "metadata": {},
   "outputs": [
    {
     "data": {
      "text/plain": [
       "34    1377\n",
       "13    1166\n",
       "6     1092\n",
       "21     978\n",
       "38     796\n",
       "4      765\n",
       "17     606\n",
       "37     533\n",
       "39     505\n",
       "25     414\n",
       "8      403\n",
       "7      332\n",
       "9      317\n",
       "26     303\n",
       "15     285\n",
       "12     280\n",
       "24     272\n",
       "29     263\n",
       "33     254\n",
       "1      210\n",
       "28     197\n",
       "16     195\n",
       "10     148\n",
       "19     128\n",
       "32      84\n",
       "27      70\n",
       "11      32\n",
       "18      23\n",
       "22      21\n",
       "30      21\n",
       "14      21\n",
       "31      21\n",
       "35      21\n",
       "5       21\n",
       "36      21\n",
       "20      21\n",
       "3       21\n",
       "2       19\n",
       "23      16\n",
       "0        6\n",
       "40       3\n",
       "Name: theme_name, dtype: int64"
      ]
     },
     "execution_count": 11,
     "metadata": {},
     "output_type": "execute_result"
    }
   ],
   "source": [
    "x['theme_name'].value_counts(dropna=False)"
   ]
  },
  {
   "cell_type": "code",
   "execution_count": 12,
   "id": "f5c2eff1",
   "metadata": {},
   "outputs": [
    {
     "name": "stderr",
     "output_type": "stream",
     "text": [
      "C:\\ProgramData\\Anaconda3\\lib\\site-packages\\seaborn\\_decorators.py:36: FutureWarning: Pass the following variables as keyword args: x, y. From version 0.12, the only valid positional argument will be `data`, and passing other arguments without an explicit keyword will result in an error or misinterpretation.\n",
      "  warnings.warn(\n"
     ]
    },
    {
     "data": {
      "image/png": "[encoded data removed]",
      "text/plain": [
       "<Figure size 1008x576 with 1 Axes>"
      ]
     },
     "metadata": {
      "needs_background": "light"
     },
     "output_type": "display_data"
    }
   ],
   "source": [
    "plt.figure(figsize=(14,8))\n",
    "sns.barplot(x['ages'], x['theme_name'])\n",
    "plt.xlabel('ages', fontsize=20)\n",
    "plt.ylabel('theme_name', fontsize=20)\n",
    "plt.title('ages vs theme_name', fontsize=20)\n",
    "plt.xticks(rotation = 90)\n",
    "plt.show()"
   ]
  },
  {
   "cell_type": "code",
   "execution_count": 13,
   "id": "747a68c6",
   "metadata": {},
   "outputs": [],
   "source": [
    "y=x.list_price \n",
    "X=x.drop(columns=['list_price'],axis=1)"
   ]
  },
  {
   "cell_type": "code",
   "execution_count": 14,
   "id": "330572fb",
   "metadata": {},
   "outputs": [],
   "source": [
    "X_train, X_test, y_train, y_test=train_test_split(X,y, test_size=0.3,random_state=100)"
   ]
  },
  {
   "cell_type": "code",
   "execution_count": 15,
   "id": "67f6e612",
   "metadata": {},
   "outputs": [
    {
     "data": {
      "text/plain": [
       "LinearRegression()"
      ]
     },
     "execution_count": 15,
     "metadata": {},
     "output_type": "execute_result"
    }
   ],
   "source": [
    "coef=LinearRegression()\n",
    "coef.fit(X_train, y_train)"
   ]
  },
  {
   "cell_type": "code",
   "execution_count": 16,
   "id": "c80db6ff",
   "metadata": {},
   "outputs": [],
   "source": [
    "Y_pred = coef.predict(X_test)"
   ]
  },
  {
   "cell_type": "code",
   "execution_count": 17,
   "id": "0f4ca3cc",
   "metadata": {},
   "outputs": [
    {
     "name": "stdout",
     "output_type": "stream",
     "text": [
      "[23.9235768  36.11279509 45.99374237 ... 78.74285058 74.54041147\n",
      " 29.55846109]\n"
     ]
    }
   ],
   "source": [
    "print(Y_pred)"
   ]
  },
  {
   "cell_type": "code",
   "execution_count": 18,
   "id": "fcf85d37",
   "metadata": {},
   "outputs": [
    {
     "name": "stdout",
     "output_type": "stream",
     "text": [
      "[0.73591846 0.74587084 0.7670575  0.77004098 0.76001756]\n"
     ]
    }
   ],
   "source": [
    "from sklearn.model_selection import cross_val_score\n",
    "scores=cross_val_score(coef,X,y)\n",
    "print(scores)"
   ]
  },
  {
   "cell_type": "code",
   "execution_count": 19,
   "id": "8a5d920a",
   "metadata": {},
   "outputs": [
    {
     "name": "stdout",
     "output_type": "stream",
     "text": [
      "Variance score: 0.74\n"
     ]
    }
   ],
   "source": [
    "print('Variance score: %.2f' % r2_score(y_test, Y_pred))"
   ]
  },
  {
   "cell_type": "code",
   "execution_count": 20,
   "id": "b48f6d9b",
   "metadata": {},
   "outputs": [],
   "source": [
    "from math import sqrt"
   ]
  },
  {
   "cell_type": "code",
   "execution_count": 21,
   "id": "2efbdcdf",
   "metadata": {},
   "outputs": [
    {
     "name": "stdout",
     "output_type": "stream",
     "text": [
      "2120.768186267184\n"
     ]
    }
   ],
   "source": [
    "print(mean_squared_error(y_test, Y_pred))"
   ]
  },
  {
   "cell_type": "code",
   "execution_count": 22,
   "id": "ec688286",
   "metadata": {},
   "outputs": [],
   "source": [
    "rmse=sqrt(mean_squared_error(y_test, Y_pred))"
   ]
  },
  {
   "cell_type": "code",
   "execution_count": 23,
   "id": "06880a15",
   "metadata": {},
   "outputs": [
    {
     "name": "stdout",
     "output_type": "stream",
     "text": [
      "46.05179894713326\n"
     ]
    }
   ],
   "source": [
    "print(rmse)"
   ]
  },
  {
   "cell_type": "code",
   "execution_count": null,
   "id": "ad3037ef",
   "metadata": {},
   "outputs": [],
   "source": []
  }
 ],
 "metadata": {
  "kernelspec": {
   "display_name": "Python 3",
   "language": "python",
   "name": "python3"
  },
  "language_info": {
   "codemirror_mode": {
    "name": "ipython",
    "version": 3
   },
   "file_extension": ".py",
   "mimetype": "text/x-python",
   "name": "python",
   "nbconvert_exporter": "python",
   "pygments_lexer": "ipython3",
   "version": "3.8.8"
  }
 },
 "nbformat": 4,
 "nbformat_minor": 5
}
